{
 "cells": [
  {
   "cell_type": "code",
   "execution_count": 1,
   "metadata": {},
   "outputs": [],
   "source": [
    "import findspark\n",
    "import os\n",
    "findspark.init('/opt/spark')\n",
    "java8_location= '/usr/lib/jvm/java-1.8.0-openjdk-1.8.0.252.b09-2.el8_1.x86_64'\n",
    "\n",
    "os.environ['JAVA_HOME'] = java8_location"
   ]
  },
  {
   "cell_type": "code",
   "execution_count": 2,
   "metadata": {},
   "outputs": [],
   "source": [
    "from pyspark import SparkContext, SparkConf\n",
    "import pyspark\n",
    "conf = SparkConf().setAppName(\"Ruihong\").set(\"spark.executor.memory\", \"2g\").set(\"spark.driver.memory\", \"2g\")\n",
    "conf = conf.set(\"spark.worker.timeout\", \"250000\").set(\"spark.maxRemoteBlockSizeFetchToMem\", \"5M\").set(\"spark.network.timeout\", \"300000\").set(\"spark.executor.heartbeatInterval\", \"200000\")\n",
    "#.set(\"spark.maxRemoteBlockSizeFetchToMem\", \"5M\")\n",
    "sc = SparkContext.getOrCreate(conf)\n",
    "#sc.setLogLevel(\"ERROR\")\n",
    "#sc =SparkContext(appName=\"Ruihong\")\n"
   ]
  },
  {
   "cell_type": "code",
   "execution_count": 3,
   "metadata": {},
   "outputs": [
    {
     "name": "stdout",
     "output_type": "stream",
     "text": [
      "[('spark.executor.memory', '2g'), ('spark.executor.heartbeatInterval', '200000'), ('spark.executor.id', 'driver'), ('spark.app.name', 'Ruihong'), ('spark.driver.host', 'datahub.geos.tamu.edu'), ('spark.maxRemoteBlockSizeFetchToMem', '5M'), ('spark.app.id', 'local-1589668128460'), ('spark.rdd.compress', 'True'), ('spark.driver.memory', '2g'), ('spark.serializer.objectStreamReset', '100'), ('spark.master', 'local[*]'), ('spark.submit.deployMode', 'client'), ('spark.worker.timeout', '250000'), ('spark.driver.port', '43255'), ('spark.network.timeout', '300000'), ('spark.ui.showConsoleProgress', 'true')]\n"
     ]
    }
   ],
   "source": [
    "print(sc._conf.getAll())\n",
    "import geopandas as gpd\n",
    "import pyspark.sql.functions as F\n",
    "from pyspark.sql.functions import *\n",
    "from pyspark.sql import *\n",
    "from pyspark.sql.types import *\n",
    "import urllib\n",
    "import os\n",
    "from matplotlib import pyplot as plt\n",
    "import geopy.distance\n",
    "import pandas as pd\n",
    "import numpy as np\n",
    "import geopandas as gpd\n",
    "from shapely.geometry import *\n",
    "import shapely.speedups\n",
    "import time\n",
    "shapely.speedups.enable() # this makes some spatial queries run faster\n"
   ]
  },
  {
   "cell_type": "code",
   "execution_count": 4,
   "metadata": {},
   "outputs": [],
   "source": [
    "import os\n",
    "os.chdir(\"/vol_fast/tti/ruihongPro\")"
   ]
  },
  {
   "cell_type": "code",
   "execution_count": 5,
   "metadata": {},
   "outputs": [],
   "source": [
    "spark = SparkSession.builder.getOrCreate()\n",
    "fifa_df1 = spark.read.csv(\"/vol_fast/tti/ruihongPro/road_info_July.csv\", header = True).select(['TripId', 'road_att', 'Longitude'])\n",
    "fifa_df2 = spark.read.csv(\"/vol_fast/tti/ruihongPro/road_info_June.csv\", header = True).select(['TripId', 'road_att', 'Longitude'])\n",
    "fifa_df3 = spark.read.csv(\"/vol_fast/tti/ruihongPro/road_info_Oct1.csv\", header = True).select(['TripId', 'road_att', 'Longitude'])\n",
    "fifa_df4 = spark.read.csv(\"/vol_fast/tti/ruihongPro/road_info_Feb1.csv\", header = True).select(['TripId', 'road_att', 'Longitude'])\n",
    "fifa_df5 = spark.read.csv(\"/vol_fast/tti/ruihongPro/road_info_Oct2.csv\", header = True).select(['TripId', 'road_att', 'Longitude'])\n",
    "fifa_df6 = spark.read.csv(\"/vol_fast/tti/ruihongPro/road_info_Feb2.csv\", header = True).select(['TripId', 'road_att', 'Longitude'])\n",
    "fifa_df = fifa_df1.unionAll(fifa_df2)\n",
    "fifa_df = fifa_df.unionAll(fifa_df3)\n",
    "fifa_df = fifa_df.unionAll(fifa_df4)\n",
    "fifa_df = fifa_df.unionAll(fifa_df5)\n",
    "fifa_df = fifa_df.unionAll(fifa_df6)"
   ]
  },
  {
   "cell_type": "code",
   "execution_count": 6,
   "metadata": {},
   "outputs": [
    {
     "name": "stdout",
     "output_type": "stream",
     "text": [
      "root\n",
      " |-- TripId: string (nullable = true)\n",
      " |-- road_att: string (nullable = true)\n",
      " |-- Longitude: string (nullable = true)\n",
      "\n"
     ]
    }
   ],
   "source": [
    "fifa_df1.printSchema()"
   ]
  },
  {
   "cell_type": "code",
   "execution_count": 7,
   "metadata": {},
   "outputs": [
    {
     "data": {
      "text/plain": [
       "Column<b'road_att'>"
      ]
     },
     "execution_count": 7,
     "metadata": {},
     "output_type": "execute_result"
    }
   ],
   "source": [
    "fifa_df.road_att\n"
   ]
  },
  {
   "cell_type": "code",
   "execution_count": 8,
   "metadata": {},
   "outputs": [
    {
     "name": "stdout",
     "output_type": "stream",
     "text": [
      "root\n",
      " |-- TripId: string (nullable = true)\n",
      " |-- road_att: string (nullable = true)\n",
      " |-- Longitude: string (nullable = true)\n",
      "\n"
     ]
    }
   ],
   "source": [
    "fifa_df2.printSchema()"
   ]
  },
  {
   "cell_type": "code",
   "execution_count": 9,
   "metadata": {},
   "outputs": [
    {
     "name": "stdout",
     "output_type": "stream",
     "text": [
      "+---------------------------------------------------+\n",
      "|road_att                                           |\n",
      "+---------------------------------------------------+\n",
      "|Principal Arterial ? Other Freeways and Expressways|\n",
      "|None                                               |\n",
      "|Minor Arterial                                     |\n",
      "|Principal Arterial ? Other                         |\n",
      "|Principal Arterial                                 |\n",
      "|Collector                                          |\n",
      "|Other Freeway and Expressway                       |\n",
      "|Minor Collector                                    |\n",
      "|Local                                              |\n",
      "|Interstate                                         |\n",
      "|Major Collector                                    |\n",
      "+---------------------------------------------------+\n",
      "\n"
     ]
    }
   ],
   "source": [
    "\n",
    "fifa_df.select('road_att').distinct().show(truncate = False)"
   ]
  },
  {
   "cell_type": "code",
   "execution_count": 10,
   "metadata": {},
   "outputs": [],
   "source": [
    "\n",
    "cnt_cond = lambda cond: F.sum(F.when(cond, 1).otherwise(0))\n",
    "\n"
   ]
  },
  {
   "cell_type": "code",
   "execution_count": 11,
   "metadata": {},
   "outputs": [],
   "source": [
    "# road_info = fifa_df.groupBy(\"TripId\").agg(((cnt_cond(fifa_df.road_att == 'Local'))/F.count('Longitude')).alias('Local'), \n",
    "#                                         ((cnt_cond(fifa_df.road_att == 'Collector'))/F.count('Longitude')).alias('Collector'), \n",
    "#                                         ((cnt_cond(fifa_df.road_att == 'Principal Arterial'))/F.count('Longitude')).alias('Principal Arterial'), \n",
    "#                                         ((cnt_cond(fifa_df.road_att == 'Minor Arterial'))/F.count('Longitude')).alias('Minor Arterial'), \n",
    "#                                         ((cnt_cond(fifa_df.road_att == 'Interstate'))/F.count('Longitude')).alias('Interstate'), \n",
    "#                                         ((cnt_cond(fifa_df.road_att == 'Other Freeway and Expressway'))/F.count('Longitude')).alias('Other Freeway and Expressway'), \n",
    "#                                         ((cnt_cond(fifa_df.road_att == 'Principal Arterial ? Other Freeways and Expres...')).alias('Principal Arterial Other Freeway and Expressway'),\n",
    "#                                         ((cnt_cond(fifa_df.road_att == 'Principal Arterial ? Other'))/F.count('Longitude')).alias('Principal Arterial Other'), \n",
    "#                                         ((cnt_cond(fifa_df.road_att == 'Major Collector'))/F.count('Longitude')).alias('Major Collector'), \n",
    "#                                         ((cnt_cond(fifa_df.road_att == 'Minor Collector'))/F.count('Longitude')).alias('Minor Collector'),\n",
    "#                                         ((cnt_cond(fifa_df.road_att == 'None'))/F.count('Longitude')).alias('None'))\n",
    "road_info = fifa_df.groupBy(\"TripId\").agg(((cnt_cond(fifa_df.road_att == 'Local'))/F.count('Longitude')).alias('Local'), \n",
    "                                        ((cnt_cond((fifa_df.road_att == 'Collector')|(fifa_df.road_att == 'Major Collector')|(fifa_df.road_att == 'Minor Collector')))/F.count('Longitude')).alias('Collector'), \n",
    "                                        ((cnt_cond((fifa_df.road_att == 'Principal Arterial')|(fifa_df.road_att == 'Interstate')|(fifa_df.road_att == 'Other Freeway and Expressway')|(fifa_df.road_att == 'Principal Arterial ? Other Freeways and Expressways')|(fifa_df.road_att == 'Principal Arterial ? Other')))/F.count('Longitude')).alias('Principal Arterial'), \n",
    "                                        ((cnt_cond(fifa_df.road_att == 'Minor Arterial'))/F.count('Longitude')).alias('Minor Arterial'), \n",
    "                                        ((cnt_cond(fifa_df.road_att == 'None'))/F.count('Longitude')).alias('None'))"
   ]
  },
  {
   "cell_type": "code",
   "execution_count": 12,
   "metadata": {},
   "outputs": [
    {
     "name": "stdout",
     "output_type": "stream",
     "text": [
      "+--------------------------------+--------------------+-------------------+-------------------+--------------------+-------------------+\n",
      "|TripId                          |Local               |Collector          |Principal Arterial |Minor Arterial      |None               |\n",
      "+--------------------------------+--------------------+-------------------+-------------------+--------------------+-------------------+\n",
      "|e78f12ec75b1a760a17a0a1912bf7a03|0.3                 |0.1                |0.0                |0.6                 |0.0                |\n",
      "|224d2119104d9427e18e67fa4e7fed27|0.0                 |0.5                |0.0                |0.5                 |0.0                |\n",
      "|4912d1b304671c8e793ae2a37db70259|0.25                |0.25               |0.5                |0.0                 |0.0                |\n",
      "|99db9c64c0ae5afed2d2fd8f701b2c6d|0.045454545454545456|0.0                |0.45454545454545453|0.045454545454545456|0.45454545454545453|\n",
      "|35ccb7ca5cde83a973b4739f6a843f49|0.0                 |0.0                |0.0                |0.061224489795918366|0.9387755102040817 |\n",
      "|30f2080c51a7d4d6bdbdab71f7164d37|0.0                 |0.2                |0.8                |0.0                 |0.0                |\n",
      "|20c554822000ba585fc17c3ae7d1a39d|1.0                 |0.0                |0.0                |0.0                 |0.0                |\n",
      "|6e28dba5f07d5371f46f77ed66b76102|0.5                 |0.0                |0.5                |0.0                 |0.0                |\n",
      "|d726c52dc8559835bfa83a177a692ddb|0.0                 |0.0                |0.2222222222222222 |0.0                 |0.7777777777777778 |\n",
      "|062b66cc4afa1525aade2c0c10cfb193|0.07692307692307693 |0.07692307692307693|0.8461538461538461 |0.0                 |0.0                |\n",
      "|9d4fbacf65638785d264d2b86a1947a2|0.5                 |0.0                |0.5                |0.0                 |0.0                |\n",
      "|12f4f19e581d16da79c8942845acf40b|0.010101010101010102|0.0                |0.18181818181818182|0.030303030303030304|0.7777777777777778 |\n",
      "|8355e9574ce84751a44fccb1f8ac365b|0.05555555555555555 |0.05555555555555555|0.6111111111111112 |0.2777777777777778  |0.0                |\n",
      "|edc5a10bd90615a680886b135b668297|0.5                 |0.0                |0.0                |0.5                 |0.0                |\n",
      "|0d443f02b6dc49c85d834fed3f7b1a5b|0.0                 |0.0                |0.7058823529411765 |0.0                 |0.29411764705882354|\n",
      "|1c8dc4f9842ce7652cab99ab2381b6d3|0.0                 |0.0                |1.0                |0.0                 |0.0                |\n",
      "|19f28fb6d0d20b8d60912e6755ba9960|0.0                 |0.0                |0.5                |0.5                 |0.0                |\n",
      "|2988d2379fcd873df613253b64ce4313|0.0                 |0.0                |0.42857142857142855|0.07142857142857142 |0.5                |\n",
      "|b25678b906905daf774c2a0b36385667|0.041666666666666664|0.0                |0.4583333333333333 |0.0                 |0.5                |\n",
      "|e48fa24113f769ceb1724ca6b2bcaeaa|0.0                 |0.0                |0.5                |0.5                 |0.0                |\n",
      "+--------------------------------+--------------------+-------------------+-------------------+--------------------+-------------------+\n",
      "only showing top 20 rows\n",
      "\n"
     ]
    }
   ],
   "source": [
    "road_info.show(truncate = False)"
   ]
  },
  {
   "cell_type": "code",
   "execution_count": 13,
   "metadata": {},
   "outputs": [],
   "source": [
    "road_info.persist(pyspark.StorageLevel.DISK_ONLY)\n",
    "road_info.write.format(\"com.databricks.spark.csv\").option(\"header\", \"true\").save(\"road_info_Trip_level.csv\")\n"
   ]
  },
  {
   "cell_type": "code",
   "execution_count": 14,
   "metadata": {},
   "outputs": [],
   "source": [
    "Trip_to_merge1 = spark.read.csv(\"/vol_fast/tti/ruihongPro/TripRecordsReportTrips_Oct1.csv\", header = False)\n",
    "Trip_to_merge2 = spark.read.csv(\"/vol_fast/tti/ruihongPro/TripRecordsReportTrips_Oct2.csv\", header = False)\n",
    "Trip_to_merge3 = spark.read.csv(\"/vol_fast/tti/ruihongPro/TripRecordsReportTrips_Feb1.csv\", header = False)\n",
    "Trip_to_merge4 = spark.read.csv(\"/vol_fast/tti/ruihongPro/TripRecordsReportTrips_Feb2.csv\", header = False)\n",
    "Trip_to_merge5 = spark.read.csv(\"/vol_fast/tti/ruihongPro/TripRecordsReportTrips_June.csv\", header = False)\n",
    "Trip_to_merge6 = spark.read.csv(\"/vol_fast/tti/ruihongPro/TripRecordsReportTrips_July.csv\", header = False)\n",
    "Trip_to_merge = Trip_to_merge1.unionAll(Trip_to_merge2)\n",
    "Trip_to_merge = Trip_to_merge.unionAll(Trip_to_merge3)\n",
    "Trip_to_merge = Trip_to_merge.unionAll(Trip_to_merge4)\n",
    "Trip_to_merge = Trip_to_merge.unionAll(Trip_to_merge5)\n",
    "Trip_to_merge = Trip_to_merge.unionAll(Trip_to_merge6)\n",
    "Trip_to_merge = Trip_to_merge.withColumnRenamed(\"_c0\", \"TripId\").withColumnRenamed(\"_c1\", \"DeviceId\").withColumnRenamed(\"_c2\", \"ProviderId\").withColumnRenamed(\"_c3\", \"Mode\").withColumnRenamed(\"_c4\", \"StartDate\")\n",
    "Trip_to_merge = Trip_to_merge.withColumnRenamed(\"_c5\", \"StartWDay\").withColumnRenamed(\"_c6\", \"EndDate\").withColumnRenamed(\"_c7\", \"EndWDay\").withColumnRenamed(\"_c8\", \"StartLocLat\").withColumnRenamed(\"_c9\", \"StartLocLon\")\n",
    "Trip_to_merge = Trip_to_merge.withColumnRenamed(\"_c10\", \"EndLocLat\").withColumnRenamed(\"_c11\", \"EndLocLon\").withColumnRenamed(\"_c12\", \"IsStartHome\").withColumnRenamed(\"_c13\", \"IsEndHome\").withColumnRenamed(\"_c14\", \"GeospatialType\")\n",
    "Trip_to_merge = Trip_to_merge.withColumnRenamed(\"_c15\", \"ProviderType\").withColumnRenamed(\"_c16\", \"ProviderDrivingProfile\").withColumnRenamed(\"_c17\", \"VehicleWeightClass\").withColumnRenamed(\"_c18\", \"FirstZoneName\").withColumnRenamed(\"_c19\", \"LastZoneName\")\n",
    "Trip_to_merge = Trip_to_merge.withColumnRenamed(\"_c20\", \"MultipleZones\").withColumnRenamed(\"_c21\", \"MultipleCorridors\")\n",
    "Trip_to_merge = Trip_to_merge.select(['TripId', 'DeviceId'])\n"
   ]
  },
  {
   "cell_type": "code",
   "execution_count": 15,
   "metadata": {},
   "outputs": [],
   "source": [
    "# Trip_to_merge.show(truncate = False)"
   ]
  },
  {
   "cell_type": "code",
   "execution_count": 16,
   "metadata": {},
   "outputs": [],
   "source": [
    "road_info = Trip_to_merge.join(road_info, on=['TripId'], how='right')"
   ]
  },
  {
   "cell_type": "code",
   "execution_count": 17,
   "metadata": {},
   "outputs": [],
   "source": [
    "\n",
    "result = road_info.groupBy(\"DeviceId\").agg(F.mean('Local').alias('Average Local'),\n",
    "                                F.stddev('Local').alias('STD Local'),\n",
    "                                F.mean('Collector').alias('Average Collector'),\n",
    "                                F.stddev('Collector').alias('STD Collector'),\n",
    "                                F.mean('Principal Arterial').alias('Average Principal Arterial'),\n",
    "                                F.stddev('Principal Arterial').alias('STD Principal Arterial'),\n",
    "                                F.mean('Minor Arterial').alias('Average Minor Arterial'),\n",
    "                                F.stddev('Minor Arterial').alias('STD Minor Arterial'),\n",
    "                                F.mean('None').alias('Average None'),\n",
    "                                F.stddev('None').alias('STD None')\n",
    "                               )\n",
    "\n",
    "result.toPandas().to_csv(\"road_info_Device_level.csv\", index = False, header = True)\n"
   ]
  },
  {
   "cell_type": "code",
   "execution_count": null,
   "metadata": {},
   "outputs": [],
   "source": []
  }
 ],
 "metadata": {
  "kernelspec": {
   "display_name": "Python 3",
   "language": "python",
   "name": "python3"
  },
  "language_info": {
   "codemirror_mode": {
    "name": "ipython",
    "version": 3
   },
   "file_extension": ".py",
   "mimetype": "text/x-python",
   "name": "python",
   "nbconvert_exporter": "python",
   "pygments_lexer": "ipython3",
   "version": "3.6.9"
  }
 },
 "nbformat": 4,
 "nbformat_minor": 4
}
