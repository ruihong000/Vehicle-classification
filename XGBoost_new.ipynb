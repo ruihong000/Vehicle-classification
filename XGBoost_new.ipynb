{
 "cells": [
  {
   "cell_type": "code",
   "execution_count": 16,
   "metadata": {},
   "outputs": [],
   "source": [
    "import numpy as np\n",
    "import pandas as pd\n",
    "from sklearn.model_selection import train_test_split\n",
    "import os\n",
    "os.chdir(\"D:/research\")\n",
    "\n",
    "more = False\n",
    "use_drive = False\n",
    "use_dev = False\n",
    "use_cluster = False\n",
    "use_sample = False\n",
    "use_temporal= True\n",
    "use_road = False\n",
    "features = pd.read_csv('Device_all_cluster1.csv')\n",
    "features = features.drop(['list'], axis = 1)\n",
    "features.fillna({'HourMax1':'None', 'HourMax2':'None', 'HourMax3':'None', 'HourMax4':'None',\n",
    "                 'CountMax1':0,  'CountMax2':0,  'CountMax3':0, 'CountMax4':0}, inplace=True)\n",
    "\n",
    "features = pd.concat([features,pd.get_dummies(features['GeospatialType'])], axis = 1)\n",
    "\n",
    "features['CountMax1'] = features['CountMax1']/features['TotalNumTrip']\n",
    "features['CountMax2'] = features['CountMax2']/features['TotalNumTrip']\n",
    "features['CountMax3'] = features['CountMax3']/features['TotalNumTrip']\n",
    "features['CountMax4'] = features['CountMax4']/features['TotalNumTrip']\n",
    "\n",
    "\n",
    "features['first_cluster_count'] = features['first_cluster_count']/features['TotalNumTrip']\n",
    "features['second_cluster_count'] = features['second_cluster_count']/features['TotalNumTrip']\n",
    "drop_dev = ['std_average_speed', 'std_detour_metrics', 'std_POInum', 'std_Total_time_interval', 'std_TotalDistance',\n",
    "           'STD Local', 'STD Collector', 'STD Principal Arterial', 'STD Minor Arterial', 'STD None']\n",
    "drop_road = ['Average Local', 'Average Collector', 'Average Principal Arterial',\n",
    "             'Average Minor Arterial','Average None']\n",
    "drop_cluster = ['first_cluster_count', 'second_cluster_count', 'total_cluster_num']\n",
    "drop_sample = ['mean_AvgTimeGra','mean_AvgDistanceGra','mean_point_num']\n",
    "drop_temporal = ['CountMax1','DistinctHour']\n",
    "drop_drive = ['mean_detour_metrics', 'mean_POInum', 'mean_TotalDistance',\n",
    "       'mean_average_speed', 'mean_Total_time_interval','EE', 'EI', 'IE', 'II']\n",
    "# features = features.drop(drop_names, axis=1)\n",
    "if use_drive == False:\n",
    "    features = features.drop(drop_drive, axis=1)\n",
    "if use_dev == False:\n",
    "    features = features.drop(drop_dev, axis=1)\n",
    "    \n",
    "if use_cluster == False:\n",
    "    features = features.drop(drop_cluster, axis=1)\n",
    "if use_sample == False:\n",
    "    features = features.drop(drop_sample, axis=1)\n",
    "if use_road == False:\n",
    "    features = features.drop(drop_road, axis=1)\n",
    "if use_temporal == True:\n",
    "    features = pd.concat([features,pd.get_dummies(features['HourMax1'])], axis = 1)\n",
    "else:\n",
    "    features = features.drop(drop_temporal, axis=1)\n",
    "features = features.dropna()\n",
    "if use_dev == True:\n",
    "    features = features.dropna(axis = 0)\n",
    "Consumer = features[features['min_profile'] == 1]\n",
    "Taxi = features[features['min_profile'] == 2]\n",
    "Delivery = features[features['min_profile'] == 3]\n",
    "Truck = features[features['min_profile'] == 4]\n",
    "\n",
    "if more == True:\n",
    "    n = min([Consumer.shape[0], Delivery.shape[0], Truck.shape[0]])\n",
    "    \n",
    "    Truck = Truck.sample(n=n, random_state=33)\n",
    "    Consumer = Consumer.sample(n=n, random_state=33)\n",
    "    Delivery = Delivery.sample(n=n, random_state=33)\n",
    "    features = pd.concat([Consumer, Delivery, Truck], axis = 0)\n",
    "    del Consumer, Delivery, Truck\n",
    "    \n",
    "else:\n",
    "    n = Taxi.shape[0]\n",
    "    Truck = Truck.sample(n=n, random_state=3)\n",
    "    Consumer = Consumer.sample(n=n, random_state=23)\n",
    "    Delivery = Delivery.sample(n=n, random_state=57)\n",
    "    features = pd.concat([Consumer, Taxi, Delivery, Truck], axis = 0)\n",
    "    del Consumer, Taxi, Delivery, Truck\n",
    "    \n",
    "labels = np.array(features['min_profile'])\n",
    "features = features.drop(['DeviceId', 'min_profile','max_profile', 'GeospatialType', 'TotalNumTrip', \n",
    "                          'HourMax1',  'std_AvgTimeGra',  'std_AvgDistanceGra', 'std_point_num',\n",
    "                          'HourMax2','HourMax3','HourMax4', 'CountMax2', 'CountMax3', 'CountMax4'], axis = 1)\n",
    "X_train, X_test, y_train, y_test = train_test_split(features, labels, test_size=0.2, random_state=40)\n",
    "    \n",
    "\n"
   ]
  },
  {
   "cell_type": "code",
   "execution_count": 8,
   "metadata": {},
   "outputs": [
    {
     "data": {
      "text/plain": [
       "Index(['first_cluster_count', 'second_cluster_count', 'total_cluster_num'], dtype='object')"
      ]
     },
     "execution_count": 8,
     "metadata": {},
     "output_type": "execute_result"
    }
   ],
   "source": [
    "\n",
    "features.columns\n"
   ]
  },
  {
   "cell_type": "code",
   "execution_count": 92,
   "metadata": {},
   "outputs": [
    {
     "data": {
      "text/plain": [
       "(72024, 53)"
      ]
     },
     "execution_count": 92,
     "metadata": {},
     "output_type": "execute_result"
    }
   ],
   "source": [
    "features.shape"
   ]
  },
  {
   "cell_type": "raw",
   "metadata": {},
   "source": []
  },
  {
   "cell_type": "code",
   "execution_count": null,
   "metadata": {},
   "outputs": [],
   "source": []
  },
  {
   "cell_type": "code",
   "execution_count": 151,
   "metadata": {},
   "outputs": [
    {
     "data": {
      "text/html": [
       "<div>\n",
       "<style scoped>\n",
       "    .dataframe tbody tr th:only-of-type {\n",
       "        vertical-align: middle;\n",
       "    }\n",
       "\n",
       "    .dataframe tbody tr th {\n",
       "        vertical-align: top;\n",
       "    }\n",
       "\n",
       "    .dataframe thead th {\n",
       "        text-align: right;\n",
       "    }\n",
       "</style>\n",
       "<table border=\"1\" class=\"dataframe\">\n",
       "  <thead>\n",
       "    <tr style=\"text-align: right;\">\n",
       "      <th></th>\n",
       "      <th>mean_detour_metrics</th>\n",
       "      <th>std_detour_metrics</th>\n",
       "      <th>mean_POInum</th>\n",
       "      <th>std_POInum</th>\n",
       "      <th>mean_TotalDistance</th>\n",
       "      <th>std_TotalDistance</th>\n",
       "      <th>CountMax1</th>\n",
       "      <th>DistinctHour</th>\n",
       "      <th>mean_average_speed</th>\n",
       "      <th>std_average_speed</th>\n",
       "      <th>...</th>\n",
       "      <th>Average Local</th>\n",
       "      <th>STD Local</th>\n",
       "      <th>Average Collector</th>\n",
       "      <th>STD Collector</th>\n",
       "      <th>Average Principal Arterial</th>\n",
       "      <th>STD Principal Arterial</th>\n",
       "      <th>Average Minor Arterial</th>\n",
       "      <th>STD Minor Arterial</th>\n",
       "      <th>Average None</th>\n",
       "      <th>STD None</th>\n",
       "    </tr>\n",
       "  </thead>\n",
       "  <tbody>\n",
       "    <tr>\n",
       "      <td>0</td>\n",
       "      <td>0.992155</td>\n",
       "      <td>0.012233</td>\n",
       "      <td>0.055556</td>\n",
       "      <td>0.235702</td>\n",
       "      <td>4.749152</td>\n",
       "      <td>5.673368</td>\n",
       "      <td>0.222222</td>\n",
       "      <td>12</td>\n",
       "      <td>0.013728</td>\n",
       "      <td>0.006330</td>\n",
       "      <td>...</td>\n",
       "      <td>0.018519</td>\n",
       "      <td>0.078567</td>\n",
       "      <td>0.157407</td>\n",
       "      <td>0.335640</td>\n",
       "      <td>0.695370</td>\n",
       "      <td>0.345078</td>\n",
       "      <td>0.009259</td>\n",
       "      <td>0.039284</td>\n",
       "      <td>0.119444</td>\n",
       "      <td>0.205182</td>\n",
       "    </tr>\n",
       "    <tr>\n",
       "      <td>1</td>\n",
       "      <td>0.991673</td>\n",
       "      <td>0.018887</td>\n",
       "      <td>0.000000</td>\n",
       "      <td>0.000000</td>\n",
       "      <td>2.537133</td>\n",
       "      <td>3.886375</td>\n",
       "      <td>0.187500</td>\n",
       "      <td>10</td>\n",
       "      <td>0.012897</td>\n",
       "      <td>0.005756</td>\n",
       "      <td>...</td>\n",
       "      <td>0.083333</td>\n",
       "      <td>0.182574</td>\n",
       "      <td>0.109375</td>\n",
       "      <td>0.273385</td>\n",
       "      <td>0.713542</td>\n",
       "      <td>0.327687</td>\n",
       "      <td>0.000000</td>\n",
       "      <td>0.000000</td>\n",
       "      <td>0.093750</td>\n",
       "      <td>0.201556</td>\n",
       "    </tr>\n",
       "    <tr>\n",
       "      <td>2</td>\n",
       "      <td>0.582224</td>\n",
       "      <td>0.261022</td>\n",
       "      <td>0.613360</td>\n",
       "      <td>1.580274</td>\n",
       "      <td>17.355034</td>\n",
       "      <td>23.177524</td>\n",
       "      <td>0.078947</td>\n",
       "      <td>24</td>\n",
       "      <td>0.006699</td>\n",
       "      <td>0.002727</td>\n",
       "      <td>...</td>\n",
       "      <td>0.144788</td>\n",
       "      <td>0.177992</td>\n",
       "      <td>0.205418</td>\n",
       "      <td>0.248702</td>\n",
       "      <td>0.417828</td>\n",
       "      <td>0.328758</td>\n",
       "      <td>0.220518</td>\n",
       "      <td>0.231878</td>\n",
       "      <td>0.011449</td>\n",
       "      <td>0.056291</td>\n",
       "    </tr>\n",
       "    <tr>\n",
       "      <td>3</td>\n",
       "      <td>0.788698</td>\n",
       "      <td>0.096600</td>\n",
       "      <td>1.915254</td>\n",
       "      <td>1.684495</td>\n",
       "      <td>25.004719</td>\n",
       "      <td>13.583731</td>\n",
       "      <td>0.322034</td>\n",
       "      <td>13</td>\n",
       "      <td>0.008691</td>\n",
       "      <td>0.002737</td>\n",
       "      <td>...</td>\n",
       "      <td>0.184953</td>\n",
       "      <td>0.218021</td>\n",
       "      <td>0.114037</td>\n",
       "      <td>0.104879</td>\n",
       "      <td>0.571453</td>\n",
       "      <td>0.282026</td>\n",
       "      <td>0.105117</td>\n",
       "      <td>0.134468</td>\n",
       "      <td>0.024441</td>\n",
       "      <td>0.028723</td>\n",
       "    </tr>\n",
       "    <tr>\n",
       "      <td>4</td>\n",
       "      <td>0.973945</td>\n",
       "      <td>0.046318</td>\n",
       "      <td>0.000000</td>\n",
       "      <td>0.000000</td>\n",
       "      <td>5.144183</td>\n",
       "      <td>5.633658</td>\n",
       "      <td>0.175439</td>\n",
       "      <td>14</td>\n",
       "      <td>0.014282</td>\n",
       "      <td>0.004627</td>\n",
       "      <td>...</td>\n",
       "      <td>0.121053</td>\n",
       "      <td>0.218548</td>\n",
       "      <td>0.003509</td>\n",
       "      <td>0.026491</td>\n",
       "      <td>0.582749</td>\n",
       "      <td>0.363937</td>\n",
       "      <td>0.035088</td>\n",
       "      <td>0.159789</td>\n",
       "      <td>0.257602</td>\n",
       "      <td>0.306463</td>\n",
       "    </tr>\n",
       "  </tbody>\n",
       "</table>\n",
       "<p>5 rows × 53 columns</p>\n",
       "</div>"
      ],
      "text/plain": [
       "   mean_detour_metrics  std_detour_metrics  mean_POInum  std_POInum  \\\n",
       "0             0.992155            0.012233     0.055556    0.235702   \n",
       "1             0.991673            0.018887     0.000000    0.000000   \n",
       "2             0.582224            0.261022     0.613360    1.580274   \n",
       "3             0.788698            0.096600     1.915254    1.684495   \n",
       "4             0.973945            0.046318     0.000000    0.000000   \n",
       "\n",
       "   mean_TotalDistance  std_TotalDistance  CountMax1  DistinctHour  \\\n",
       "0            4.749152           5.673368   0.222222            12   \n",
       "1            2.537133           3.886375   0.187500            10   \n",
       "2           17.355034          23.177524   0.078947            24   \n",
       "3           25.004719          13.583731   0.322034            13   \n",
       "4            5.144183           5.633658   0.175439            14   \n",
       "\n",
       "   mean_average_speed  std_average_speed  ...  Average Local  STD Local  \\\n",
       "0            0.013728           0.006330  ...       0.018519   0.078567   \n",
       "1            0.012897           0.005756  ...       0.083333   0.182574   \n",
       "2            0.006699           0.002727  ...       0.144788   0.177992   \n",
       "3            0.008691           0.002737  ...       0.184953   0.218021   \n",
       "4            0.014282           0.004627  ...       0.121053   0.218548   \n",
       "\n",
       "   Average Collector  STD Collector  Average Principal Arterial  \\\n",
       "0           0.157407       0.335640                    0.695370   \n",
       "1           0.109375       0.273385                    0.713542   \n",
       "2           0.205418       0.248702                    0.417828   \n",
       "3           0.114037       0.104879                    0.571453   \n",
       "4           0.003509       0.026491                    0.582749   \n",
       "\n",
       "   STD Principal Arterial  Average Minor Arterial  STD Minor Arterial  \\\n",
       "0                0.345078                0.009259            0.039284   \n",
       "1                0.327687                0.000000            0.000000   \n",
       "2                0.328758                0.220518            0.231878   \n",
       "3                0.282026                0.105117            0.134468   \n",
       "4                0.363937                0.035088            0.159789   \n",
       "\n",
       "   Average None  STD None  \n",
       "0      0.119444  0.205182  \n",
       "1      0.093750  0.201556  \n",
       "2      0.011449  0.056291  \n",
       "3      0.024441  0.028723  \n",
       "4      0.257602  0.306463  \n",
       "\n",
       "[5 rows x 53 columns]"
      ]
     },
     "execution_count": 151,
     "metadata": {},
     "output_type": "execute_result"
    }
   ],
   "source": [
    "features.head()"
   ]
  },
  {
   "cell_type": "code",
   "execution_count": 153,
   "metadata": {},
   "outputs": [
    {
     "data": {
      "text/plain": [
       "(5451095, 30)"
      ]
     },
     "execution_count": 153,
     "metadata": {},
     "output_type": "execute_result"
    }
   ],
   "source": [
    "features.shape\n"
   ]
  },
  {
   "cell_type": "code",
   "execution_count": 109,
   "metadata": {},
   "outputs": [
    {
     "data": {
      "text/plain": [
       "Index(['mean_detour_metrics', 'mean_POInum', 'mean_TotalDistance',\n",
       "       'mean_average_speed', 'mean_Total_time_interval', 'first_cluster_count',\n",
       "       'second_cluster_count', 'total_cluster_num', 'EE', 'EI', 'IE', 'II'],\n",
       "      dtype='object')"
      ]
     },
     "execution_count": 109,
     "metadata": {},
     "output_type": "execute_result"
    }
   ],
   "source": [
    "features.columns"
   ]
  },
  {
   "cell_type": "code",
   "execution_count": null,
   "metadata": {},
   "outputs": [],
   "source": []
  },
  {
   "cell_type": "code",
   "execution_count": 120,
   "metadata": {},
   "outputs": [
    {
     "data": {
      "text/plain": [
       "Index([       'mean_detour_metrics',                'mean_POInum',\n",
       "               'mean_TotalDistance',                  'CountMax1',\n",
       "                     'DistinctHour',         'mean_average_speed',\n",
       "         'mean_Total_time_interval',        'first_cluster_count',\n",
       "             'second_cluster_count',          'total_cluster_num',\n",
       "                               'EE',                         'EI',\n",
       "                               'IE',                         'II',\n",
       "                                  0,                            1,\n",
       "                                  2,                            3,\n",
       "                                  4,                            5,\n",
       "                                  6,                            7,\n",
       "                                  8,                            9,\n",
       "                                 10,                           11,\n",
       "                                 12,                           13,\n",
       "                                 14,                           15,\n",
       "                                 16,                           17,\n",
       "                                 18,                           19,\n",
       "                                 20,                           21,\n",
       "                                 22,                           23,\n",
       "                    'Average Local',          'Average Collector',\n",
       "       'Average Principal Arterial',     'Average Minor Arterial',\n",
       "                     'Average None'],\n",
       "      dtype='object')"
      ]
     },
     "execution_count": 120,
     "metadata": {},
     "output_type": "execute_result"
    }
   ],
   "source": [
    "features.columns"
   ]
  },
  {
   "cell_type": "code",
   "execution_count": 121,
   "metadata": {},
   "outputs": [
    {
     "data": {
      "text/plain": [
       "(487, 43)"
      ]
     },
     "execution_count": 121,
     "metadata": {},
     "output_type": "execute_result"
    }
   ],
   "source": [
    "X_test.shape"
   ]
  },
  {
   "cell_type": "code",
   "execution_count": 17,
   "metadata": {},
   "outputs": [
    {
     "name": "stdout",
     "output_type": "stream",
     "text": [
      "Fitting 3 folds for each of 27 candidates, totalling 81 fits\n"
     ]
    },
    {
     "name": "stderr",
     "output_type": "stream",
     "text": [
      "[Parallel(n_jobs=4)]: Using backend LokyBackend with 4 concurrent workers.\n",
      "[Parallel(n_jobs=4)]: Done  33 tasks      | elapsed:  1.4min\n",
      "[Parallel(n_jobs=4)]: Done  81 out of  81 | elapsed:  4.6min finished\n"
     ]
    }
   ],
   "source": [
    "import xgboost as xgb\n",
    "from sklearn.model_selection import GridSearchCV, RandomizedSearchCV\n",
    "xgb_model = xgb.XGBClassifier()\n",
    "parameters = {'nthread':[5], #when use hyperthread, xgboost may become slower\n",
    "              'objective':['multi:softprob'],\n",
    "              'learning_rate': [1, 0.5,  0.1], #so called `eta` value\n",
    "              'max_depth': [5, 10, 16],\n",
    "#               'min_child_weight': [3,6],\n",
    "              'silent': [1],\n",
    "#               'subsample': [0.6, 0.8],\n",
    "#               'colsample_bytree': [0.7, 0.9],\n",
    "              'n_estimators': [100, 500, 1000], #number of trees, change it to 1000 for better results\n",
    "              'missing':[-999],\n",
    "              'seed': [1337]}\n",
    "clf = GridSearchCV(xgb_model, parameters, n_jobs=4, \n",
    "                   cv=3, \n",
    "                   scoring='accuracy',\n",
    "                   verbose=2, refit=True)\n",
    "\n",
    "clf.fit(X_train, y_train)\n",
    "best_params = clf.best_params_\n",
    "# best_params = {'learning_rate': 0.5,\n",
    "#  'max_depth': 12,\n",
    "#  'missing': -999,\n",
    "#  'n_estimators': 500,\n",
    "#  'nthread': 4,\n",
    "#  'objective': 'multi:softprob',\n",
    "#  'seed': 1337,\n",
    "#  'silent': 1}\n",
    "\n",
    "\n",
    "\n",
    "model = xgb.XGBClassifier(**best_params)\n",
    "model.fit(X_train, y_train)\n",
    "from sklearn import metrics\n",
    "\n",
    "predictions = model.predict(X_test)\n",
    "accuracy = metrics.precision_score(y_test, predictions, average = 'micro')\n",
    "precision = metrics.precision_score(y_test, predictions, average = None)\n",
    "recall = metrics.recall_score(y_test, predictions, average = None)"
   ]
  },
  {
   "cell_type": "code",
   "execution_count": 51,
   "metadata": {},
   "outputs": [
    {
     "data": {
      "text/plain": [
       "Index(['mean_detour_metrics', 'mean_POInum', 'mean_TotalDistance',\n",
       "       'mean_average_speed', 'mean_Total_time_interval', 'EE', 'EI', 'IE',\n",
       "       'II'],\n",
       "      dtype='object')"
      ]
     },
     "execution_count": 51,
     "metadata": {},
     "output_type": "execute_result"
    }
   ],
   "source": [
    "features.columns"
   ]
  },
  {
   "cell_type": "code",
   "execution_count": 10,
   "metadata": {},
   "outputs": [
    {
     "data": {
      "text/plain": [
       "Counter({3: 129, 2: 133, 1: 105, 4: 120})"
      ]
     },
     "execution_count": 10,
     "metadata": {},
     "output_type": "execute_result"
    }
   ],
   "source": [
    "import collections, numpy\n",
    "collections.Counter(y_test)"
   ]
  },
  {
   "cell_type": "code",
   "execution_count": 11,
   "metadata": {},
   "outputs": [
    {
     "data": {
      "text/plain": [
       "{'learning_rate': 0.1,\n",
       " 'max_depth': 5,\n",
       " 'missing': -999,\n",
       " 'n_estimators': 100,\n",
       " 'nthread': 5,\n",
       " 'objective': 'multi:softprob',\n",
       " 'seed': 1337,\n",
       " 'silent': 1}"
      ]
     },
     "execution_count": 11,
     "metadata": {},
     "output_type": "execute_result"
    }
   ],
   "source": [
    "best_params"
   ]
  },
  {
   "cell_type": "code",
   "execution_count": 19,
   "metadata": {},
   "outputs": [
    {
     "data": {
      "text/plain": [
       "0.5236139630390144"
      ]
     },
     "execution_count": 19,
     "metadata": {},
     "output_type": "execute_result"
    }
   ],
   "source": [
    "accuracy"
   ]
  },
  {
   "cell_type": "code",
   "execution_count": 132,
   "metadata": {},
   "outputs": [
    {
     "data": {
      "text/plain": [
       "array([0.96366916, 0.80352645, 0.96033025])"
      ]
     },
     "execution_count": 132,
     "metadata": {},
     "output_type": "execute_result"
    }
   ],
   "source": [
    "precision"
   ]
  },
  {
   "cell_type": "code",
   "execution_count": 133,
   "metadata": {},
   "outputs": [
    {
     "data": {
      "text/plain": [
       "array([0.78687145, 0.93430962, 0.97885878])"
      ]
     },
     "execution_count": 133,
     "metadata": {},
     "output_type": "execute_result"
    }
   ],
   "source": [
    "recall"
   ]
  },
  {
   "cell_type": "code",
   "execution_count": null,
   "metadata": {},
   "outputs": [],
   "source": [
    "# features.DeviceId.to_csv('DeviceId_new.csv', index = False)"
   ]
  },
  {
   "cell_type": "code",
   "execution_count": 20,
   "metadata": {},
   "outputs": [
    {
     "data": {
      "text/plain": [
       "Index([     'mean_detour_metrics',       'std_detour_metrics',\n",
       "                    'mean_POInum',               'std_POInum',\n",
       "             'mean_TotalDistance',        'std_TotalDistance',\n",
       "                      'CountMax1',             'DistinctHour',\n",
       "             'mean_average_speed',        'std_average_speed',\n",
       "       'mean_Total_time_interval',  'std_Total_time_interval',\n",
       "                             'EE',                       'EI',\n",
       "                             'IE',                       'II',\n",
       "                                0,                          1,\n",
       "                                2,                          3,\n",
       "                                4,                          5,\n",
       "                                6,                          7,\n",
       "                                8,                          9,\n",
       "                               10,                         11,\n",
       "                               12,                         13,\n",
       "                               14,                         15,\n",
       "                               16,                         17,\n",
       "                               18,                         19,\n",
       "                               20,                         21,\n",
       "                               22,                         23],\n",
       "      dtype='object')"
      ]
     },
     "execution_count": 20,
     "metadata": {},
     "output_type": "execute_result"
    }
   ],
   "source": [
    "features.columns"
   ]
  },
  {
   "cell_type": "code",
   "execution_count": 129,
   "metadata": {},
   "outputs": [
    {
     "name": "stdout",
     "output_type": "stream",
     "text": [
      "Fitting 3 folds for each of 40 candidates, totalling 120 fits\n"
     ]
    },
    {
     "name": "stderr",
     "output_type": "stream",
     "text": [
      "[Parallel(n_jobs=-1)]: Using backend LokyBackend with 64 concurrent workers.\n",
      "/usr/local/lib/python3.6/site-packages/joblib/externals/loky/process_executor.py:706: UserWarning: A worker stopped while some jobs were given to the executor. This can be caused by a too short worker timeout or by a memory leak.\n",
      "  \"timeout or by a memory leak.\", UserWarning\n",
      "[Parallel(n_jobs=-1)]: Done  54 out of 120 | elapsed:  8.5min remaining: 10.4min\n",
      "[Parallel(n_jobs=-1)]: Done 115 out of 120 | elapsed: 20.0min remaining:   52.1s\n",
      "[Parallel(n_jobs=-1)]: Done 120 out of 120 | elapsed: 21.9min finished\n"
     ]
    }
   ],
   "source": [
    "from sklearn.ensemble import RandomForestClassifier  \n",
    "import numpy as np  \n",
    "from sklearn import metrics\n",
    "from sklearn.model_selection import GridSearchCV, RandomizedSearchCV\n",
    "\n",
    "# Create the parameter grid based on the results of random search \n",
    "param_grid = {\n",
    "    'max_depth': [20, 50, 100, 200, 500],\n",
    "#     'max_features': [3, 8],\n",
    "#     'min_samples_leaf': [2, 4],\n",
    "#     'min_samples_split': [5],\n",
    "    'n_estimators': [100, 1000, 2000, 3000],\n",
    "    'bootstrap' : [True, False]\n",
    "}\n",
    "# Create a based model\n",
    "rf = RandomForestClassifier()\n",
    "# Instantiate the grid search model\n",
    "grid_search = GridSearchCV(estimator = rf, param_grid = param_grid, scoring='accuracy',\n",
    "                          cv = 3, n_jobs = -1, verbose = 2)\n",
    "grid_search.fit(X_train, y_train)\n",
    "best_params = grid_search.best_params_\n",
    "# best_params =  {'bootstrap': False,\n",
    "#                   'max_depth': 50,\n",
    "#                   'max_features': 3,\n",
    "#                   'min_samples_leaf': 1,\n",
    "#                   'min_samples_split': 5,\n",
    "#                   'n_estimators': 100}\n",
    "rf = RandomForestClassifier(**best_params)\n",
    "rf.fit(X_train, y_train)\n",
    "predictions =  rf.predict(X_test)\n",
    "accuracy = metrics.precision_score(y_test, predictions, average = 'micro')\n",
    "precision = metrics.precision_score(y_test, predictions, average = None)\n",
    "recall = metrics.recall_score(y_test, predictions, average = None)"
   ]
  },
  {
   "cell_type": "code",
   "execution_count": null,
   "metadata": {},
   "outputs": [],
   "source": []
  }
 ],
 "metadata": {
  "kernelspec": {
   "display_name": "Python 3",
   "language": "python",
   "name": "python3"
  },
  "language_info": {
   "codemirror_mode": {
    "name": "ipython",
    "version": 3
   },
   "file_extension": ".py",
   "mimetype": "text/x-python",
   "name": "python",
   "nbconvert_exporter": "python",
   "pygments_lexer": "ipython3",
   "version": "3.6.9"
  }
 },
 "nbformat": 4,
 "nbformat_minor": 4
}
